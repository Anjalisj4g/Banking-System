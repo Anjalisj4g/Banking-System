{
 "cells": [
  {
   "cell_type": "code",
   "execution_count": 4,
   "id": "45885378-6103-4f05-be5c-721f711dd8ac",
   "metadata": {},
   "outputs": [
    {
     "name": "stdout",
     "output_type": "stream",
     "text": [
      "Hello!!! Welcome to banking system\n"
     ]
    },
    {
     "name": "stdin",
     "output_type": "stream",
     "text": [
      "Are you a registered user? (Yes/No)?  No\n"
     ]
    },
    {
     "name": "stdout",
     "output_type": "stream",
     "text": [
      "New User\n"
     ]
    },
    {
     "name": "stdin",
     "output_type": "stream",
     "text": [
      "Enter a six digit account_id: 123456\n"
     ]
    },
    {
     "name": "stdout",
     "output_type": "stream",
     "text": [
      "123456\n"
     ]
    },
    {
     "name": "stdin",
     "output_type": "stream",
     "text": [
      "Enter a password: abcdef\n"
     ]
    },
    {
     "name": "stdout",
     "output_type": "stream",
     "text": [
      "abcdef\n",
      "Your account is created\n"
     ]
    },
    {
     "name": "stdin",
     "output_type": "stream",
     "text": [
      "Enter the type of account :\n",
      " 1. Savings Account\n",
      " 2. Current Account \n",
      " 1\n"
     ]
    },
    {
     "name": "stdout",
     "output_type": "stream",
     "text": [
      "Your savings account is created\n"
     ]
    },
    {
     "name": "stdin",
     "output_type": "stream",
     "text": [
      "Enter amount to be Deposited:  1000\n"
     ]
    },
    {
     "name": "stdout",
     "output_type": "stream",
     "text": [
      "\n",
      " Amount Deposited: 1000.0\n"
     ]
    },
    {
     "name": "stdin",
     "output_type": "stream",
     "text": [
      "Enter amount to be Withdrawn:  200\n"
     ]
    },
    {
     "name": "stdout",
     "output_type": "stream",
     "text": [
      "\n",
      " Amount Withdrawn: 200.0\n",
      "\n",
      " Net Available Balance= 800.0\n"
     ]
    },
    {
     "name": "stdin",
     "output_type": "stream",
     "text": [
      "Do you want to logout of the account : Yes\n"
     ]
    },
    {
     "name": "stdout",
     "output_type": "stream",
     "text": [
      "Yes\n",
      "You have successfully logged out of the account\n",
      "Exit\n"
     ]
    }
   ],
   "source": [
    "class Bank_Account:\n",
    "    def __init__(self):\n",
    "        self.balance = 0\n",
    "        print(\"Hello!!! Welcome to banking system\")\n",
    "\n",
    "   #Program to login account \n",
    "    def login(self):\n",
    "        status = input(\"Are you a registered user? (Yes/No)? \")\n",
    "        if status == \"Yes\":\n",
    "            number = input(\"Enter your bank account number:\")\n",
    "            password = input(\"Enter the password:\")\n",
    "            print(\"Welcome\")\n",
    "        elif status == \"No\":\n",
    "            print(\"New User\")\n",
    "            print(input(\"Enter a six digit account_id:\"))\n",
    "            print(input(\"Enter a password:\"))\n",
    "            print(\"Your account is created\")\n",
    "\n",
    "    #Program to input the type of account\n",
    "    def account_type(self):\n",
    "        type = int(input(\"Enter the type of account :\\n 1. Savings Account\\n 2. Current Account \\n\"))\n",
    "        if type==1:\n",
    "            print(\"Your savings account is created\")\n",
    "        elif type==2:\n",
    "            print(\"Your current account is created\")\n",
    "        else:\n",
    "            print(\"Invalid credential\")\n",
    "    \n",
    "    # Program to deposit money in Bankaccount\n",
    "    def deposit(self):\n",
    "        amount = float(input(\"Enter amount to be Deposited: \"))\n",
    "        self.balance += amount\n",
    "        print(\"\\n Amount Deposited:\", amount)\n",
    "\n",
    "    # Program to withdraw money from Bankaccount\n",
    "    def withdraw(self):\n",
    "        amount = float(input(\"Enter amount to be Withdrawn: \"))\n",
    "        if self.balance >= amount:\n",
    "            self.balance -= amount\n",
    "            print(\"\\n Amount Withdrawn:\", amount)\n",
    "        else:\n",
    "            print(\"\\n Insufficient balance  \")\n",
    "\n",
    "    # Program to check bank balance\n",
    "    def new_balance(self):\n",
    "        print(\"\\n Net Available Balance=\", self.balance)\n",
    "\n",
    "    # Program to logout of the account\n",
    "    def logout(self):\n",
    "        print(input(\"Do you want to logout of the account :\"))\n",
    "        if \"Yes\":\n",
    "            print(\"You have successfully logged out of the account\")\n",
    "            print(\"Exit\")\n",
    "        elif \"No\":\n",
    "            print(\"Continue using banking system\")\n",
    "\n",
    "\n",
    "# creating an object of class\n",
    "bank_account = Bank_Account()\n",
    "\n",
    "# Calling functions with that class object\n",
    "bank_account.login()\n",
    "bank_account.account_type()\n",
    "bank_account.deposit()\n",
    "bank_account.withdraw()\n",
    "bank_account.new_balance()\n",
    "bank_account.logout()"
   ]
  },
  {
   "cell_type": "code",
   "execution_count": null,
   "id": "5b5873c6-4efb-4886-b3b6-3d97766a3a48",
   "metadata": {},
   "outputs": [],
   "source": []
  }
 ],
 "metadata": {
  "kernelspec": {
   "display_name": "Python 3 (ipykernel)",
   "language": "python",
   "name": "python3"
  },
  "language_info": {
   "codemirror_mode": {
    "name": "ipython",
    "version": 3
   },
   "file_extension": ".py",
   "mimetype": "text/x-python",
   "name": "python",
   "nbconvert_exporter": "python",
   "pygments_lexer": "ipython3",
   "version": "3.12.1"
  }
 },
 "nbformat": 4,
 "nbformat_minor": 5
}
